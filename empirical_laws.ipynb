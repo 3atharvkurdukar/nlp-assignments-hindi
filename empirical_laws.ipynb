{
 "cells": [
  {
   "cell_type": "code",
   "execution_count": 2,
   "metadata": {},
   "outputs": [],
   "source": [
    "# Manage imports\n",
    "import re\n",
    "import pandas as pd\n",
    "import xlsxwriter\n",
    "import matplotlib.pyplot as plt"
   ]
  },
  {
   "cell_type": "code",
   "execution_count": 3,
   "metadata": {},
   "outputs": [],
   "source": [
    "# Read corpus from file\n",
    "inputFileName = './corpus.txt'\n",
    "outputFileName = './corpus_word_count.xlsx'\n",
    "corpusFile = open(inputFileName, 'r', encoding='utf8')\n",
    "corpus = corpusFile.read()\n",
    "corpusFile.close()"
   ]
  },
  {
   "cell_type": "code",
   "execution_count": 4,
   "metadata": {},
   "outputs": [],
   "source": [
    "# Clean the corpus by removing separators and useless symbols\n",
    "separators = ['\\r\\n', '\\n', '\\t', ',', '|', '?', '!', '।', ';', '.']\n",
    "useless_symbols = ['', '\\r', '\\'', '\\\"', '-', '—', '(', ')', '[', ']',\n",
    "                   '.', '*', '~', '‘', '’', '`', '%', '\\/', '•',\n",
    "                   '०', '१', '२', '३', '४', '५', '६', '७', '८', '९']\n",
    "useless_symbols_regex = '[A-Za-z0-9]'\n",
    "corpus = corpus.replace(' :', ':')\n",
    "for i in useless_symbols:\n",
    "    corpus = corpus.replace(i, '')\n",
    "for i in separators:\n",
    "    corpus = corpus.replace(i, ' ')\n",
    "corpus = re.sub(useless_symbols_regex, '', corpus)\n",
    "for i in range(5):\n",
    "    corpus = corpus.replace('  ', ' ')\n",
    "for i in useless_symbols:\n",
    "    corpus = corpus.replace(i, '')\n",
    "corpus = corpus.strip()"
   ]
  },
  {
   "cell_type": "code",
   "execution_count": 5,
   "metadata": {},
   "outputs": [
    {
     "name": "stdout",
     "output_type": "stream",
     "text": [
      "Corpus Length:  3750365\n",
      "Word List:  716604\n"
     ]
    }
   ],
   "source": [
    "# Extract words from the corpus\n",
    "wordList = re.split(' ', str(corpus))\n",
    "print('Corpus Length: ', len(corpus))\n",
    "print('Word List: ', len(wordList))"
   ]
  },
  {
   "cell_type": "code",
   "execution_count": 6,
   "metadata": {},
   "outputs": [
    {
     "data": {
      "text/plain": [
       "0"
      ]
     },
     "execution_count": 6,
     "metadata": {},
     "output_type": "execute_result"
    }
   ],
   "source": [
    "# Initialize the worksheet\n",
    "workbook = xlsxwriter.Workbook(outputFileName)\n",
    "worksheet1 = workbook.add_worksheet()\n",
    "row1 = col1 = 0\n",
    "worksheet1.write(row1, 0, 'Word')\n",
    "worksheet1.write(row1, 1, 'Occurrences')\n",
    "worksheet1.write(row1, 2, 'Rank')\n",
    "worksheet1.write(row1, 3, 'f.r^alpha')\n",
    "worksheet1.write(row1, 4, 'f.(r+beta)^alpha')"
   ]
  },
  {
   "cell_type": "code",
   "execution_count": 7,
   "metadata": {},
   "outputs": [
    {
     "data": {
      "text/plain": [
       "0"
      ]
     },
     "execution_count": 7,
     "metadata": {},
     "output_type": "execute_result"
    }
   ],
   "source": [
    "worksheet2 = workbook.add_worksheet()\n",
    "row2 = col2 = 0\n",
    "worksheet2.write(row2, 0, 'Types')\n",
    "worksheet2.write(row2, 1, 'Corpus Length')"
   ]
  },
  {
   "cell_type": "code",
   "execution_count": 8,
   "metadata": {},
   "outputs": [
    {
     "name": "stdout",
     "output_type": "stream",
     "text": [
      "Unique Words = 39110\n",
      "Tokens       = 716604\n",
      "TTR          = 0.05457686532589826\n"
     ]
    }
   ],
   "source": [
    "# Extraction of unique words\n",
    "types = tokens = 0\n",
    "duplicates = []\n",
    "for word in wordList:\n",
    "    if word != ' ' or word != '':\n",
    "        tokens += 1\n",
    "        if word not in duplicates:\n",
    "            count = 0\n",
    "            types += 1\n",
    "            duplicates.append(word)\n",
    "            for i in wordList:\n",
    "                if i == word:\n",
    "                    count += 1\n",
    "            row1 += 1\n",
    "            worksheet1.write(row1, 0, word)\n",
    "            worksheet1.write(row1, 1, count)\n",
    "        if tokens % 200 == 0:\n",
    "            row2 += 1\n",
    "            worksheet2.write(row2, 0, types)\n",
    "            worksheet2.write(row2, 1, tokens)\n",
    "workbook.close()\n",
    "print('Unique Words =', types)\n",
    "print('Tokens       =', tokens)\n",
    "print('TTR          =', types / tokens)"
   ]
  },
  {
   "cell_type": "code",
   "execution_count": 9,
   "metadata": {},
   "outputs": [],
   "source": [
    "xl = pd.ExcelFile(outputFileName)\n",
    "df1 = xl.parse('Sheet1')\n",
    "length1 = len(df1.index) or 0\n",
    "df2 = xl.parse('Sheet2')\n",
    "length2 = len(df2.index) or 0"
   ]
  },
  {
   "cell_type": "code",
   "execution_count": 10,
   "metadata": {},
   "outputs": [],
   "source": [
    "df1 = df1.sort_values('Occurrences', ascending=False) #Sorting out output in decending order\n",
    "for i in range(0, length1):\n",
    "    df1.iloc[i,2] = int(i + 1)             # Giving rank to sorted output"
   ]
  },
  {
   "cell_type": "code",
   "execution_count": 11,
   "metadata": {},
   "outputs": [],
   "source": [
    "alpha = 0.85\n",
    "beta = 2.7\n",
    "for i in range(0, length1):\n",
    "    df1.iloc[i,3] = int(df1.iloc[i,2] * (df1.iloc[i,1] ** alpha))           # finding f.r^alpha\n",
    "    df1.iloc[i,4] = int(df1.iloc[i,2] * ((df1.iloc[i,1] + beta) ** alpha))  # finding f.(r+beta)^alpha\n"
   ]
  },
  {
   "cell_type": "code",
   "execution_count": 12,
   "metadata": {},
   "outputs": [],
   "source": [
    "writer = pd.ExcelWriter(outputFileName) \n",
    "df1.to_excel(writer,'Sheet1',index=False) # Entering this output into the file \n",
    "writer.save()"
   ]
  },
  {
   "cell_type": "code",
   "execution_count": 13,
   "metadata": {},
   "outputs": [
    {
     "data": {
      "image/png": "[encoded data removed]",
      "text/plain": [
       "<Figure size 432x288 with 1 Axes>"
      ]
     },
     "metadata": {
      "needs_background": "light"
     },
     "output_type": "display_data"
    }
   ],
   "source": [
    "# Zipf's Law\n",
    "plt.plot(df1.iloc[:, 2], df1.iloc[:, 3], 'b.')\n",
    "plt.show()"
   ]
  },
  {
   "cell_type": "code",
   "execution_count": 14,
   "metadata": {},
   "outputs": [
    {
     "data": {
      "image/png": "[encoded data removed]",
      "text/plain": [
       "<Figure size 432x288 with 1 Axes>"
      ]
     },
     "metadata": {
      "needs_background": "light"
     },
     "output_type": "display_data"
    }
   ],
   "source": [
    "# Mandelbrot's Approximation\n",
    "plt.plot(df1.iloc[:, 2], df1.iloc[:, 4], 'g.')\n",
    "plt.show()"
   ]
  },
  {
   "cell_type": "code",
   "execution_count": 15,
   "metadata": {},
   "outputs": [
    {
     "data": {
      "image/png": "[encoded data removed]",
      "text/plain": [
       "<Figure size 432x288 with 1 Axes>"
      ]
     },
     "metadata": {
      "needs_background": "light"
     },
     "output_type": "display_data"
    }
   ],
   "source": [
    "# Heap's Law\n",
    "plt.plot(df2.iloc[:, 1], df2.iloc[:, 0], 'r.')\n",
    "plt.show()"
   ]
  },
  {
   "cell_type": "code",
   "execution_count": null,
   "metadata": {},
   "outputs": [],
   "source": []
  }
 ],
 "metadata": {
  "file_extension": ".py",
  "kernelspec": {
   "display_name": "Python 3",
   "language": "python",
   "name": "python3"
  },
  "language_info": {
   "codemirror_mode": {
    "name": "ipython",
    "version": 3
   },
   "file_extension": ".py",
   "mimetype": "text/x-python",
   "name": "python",
   "nbconvert_exporter": "python",
   "pygments_lexer": "ipython3",
   "version": "3.7.1"
  },
  "mimetype": "text/x-python",
  "name": "python",
  "npconvert_exporter": "python",
  "pygments_lexer": "ipython3",
  "version": 3
 },
 "nbformat": 4,
 "nbformat_minor": 2
}
